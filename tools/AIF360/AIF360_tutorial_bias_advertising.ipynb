{
  "cells": [
    {
      "cell_type": "markdown",
      "id": "331ca84c",
      "metadata": {
        "id": "331ca84c"
      },
      "source": [
        "# Discover, Measure, and Mitigate Bias in Advertising\n",
        "This tutorial illustrates how bias in advertising (ad) data can be discovered, measured, and mitigated using the **AI Fairness 360 (AIF360) toolkit**. We use data from advertising, where advertisments are targeted, and the actual and predicted conversions are collected along with additional attributes about each user. A user is considered to have actually converted when they click on an advertisement.  This tutorial demonstrates how methods in the AIF360 toolkit can be used to discover biased subgroups, determine the amount of bias, and mitigate this bias."
      ]
    },
    {
      "cell_type": "markdown",
      "id": "2fd70055",
      "metadata": {
        "id": "2fd70055"
      },
      "source": [
        "## Use Case Description"
      ]
    },
    {
      "cell_type": "markdown",
      "id": "3e0daa21",
      "metadata": {
        "id": "3e0daa21"
      },
      "source": [
        "* To demonstrate discovery, measurement, and mitigation of bias in advertising,  we use a dataset that contains synthetic generated data of all users who were shown a certain advertisement. Each instance of the dataset has feature attributes such as gender, age, income, political/religious affiliation, parental status, home ownership, area (rural/urban), and education status. The predicted probability of conversion along with the binary predicted conversion, which is obtained by thresholding the predicted probability, is included. In addition, the binary true conversion, based on whether the user actually clicked on the ad is also included. A user is considered to have converted (true conversion=1) if they clicked on the ad.\n",
        "* This data is typically gathered using an ad targeting platform, where dynamic creative optimization algorithms target users who are more likely to click on the ad creative (more likely to convert). Targeting involves choosing user specific attributes such as designated market area (DMA), age group, income etc. and showing the particular ad to those users who have these attributes.\n",
        "* After the ad campaign is completed, the ad data is obtained from various ad data management platforms. They are used with the AIF360 toolkit to: (1) discover the subgroups that exhibit high predictive bias using the multidimensional subset scan (MDSS) method, (2) measure the bias exhibited by these subgroups using various metrics, and (3) mitigate bias using post-processing bias mitigation approaches. MDSS is a technique used to identify the subset of attributes and corresponding feature values (aka subgroups) that have the most predictive bias. The group with the highest predictive bias is designated as \"privileged\", and the rest of the records belong to \"unprivileged\" groups in our analysis. Note that the use of terms privileged and unprivileged in this analysis does not correspond to socioeconomic privilege.\n",
        "\n",
        "**Additional Notes:**\n",
        "* Unlike some other applications such as credit approval, where sensitive/protected features such as gender are known because of regulations, in the ad industry a key difference is that this is not known a-priori and hence necessitates the use of bias discovery methods such as MDSS.\n",
        "* We use a post-processing bias mitigation approach (Reject Option Classification or ROC) since the dataset with true and predicted conversions is already provided. Pre- or in-processing approches can also be used in situations where we have access to the training data or model training algorithms of the ad targeting platform respectively."
      ]
    },
    {
      "cell_type": "markdown",
      "source": [
        "## Install poetry and rest of dependencies\n",
        "\n",
        "We install poetry for dependency pinning. We will clone the repository and then install all the dependencies. We also se PyEnv to set a specific Python version declared in .python-version file,"
      ],
      "metadata": {
        "id": "FioyUnp9cZAx"
      },
      "id": "FioyUnp9cZAx"
    },
    {
      "cell_type": "code",
      "source": [
        "!curl -sSL https://install.python-poetry.org | python3 -\n",
        "# add to path\n",
        "import os\n",
        "os.environ[\"PATH\"] = '/root/.local/bin' + os.pathsep + os.environ[\"PATH\"]\n",
        "!which poetry"
      ],
      "metadata": {
        "colab": {
          "base_uri": "https://localhost:8080/"
        },
        "id": "Vf17-E9dcasI",
        "outputId": "ed567548-640c-4596-9f85-1fa67bac590e"
      },
      "id": "Vf17-E9dcasI",
      "execution_count": null,
      "outputs": [
        {
          "output_type": "stream",
          "name": "stdout",
          "text": [
            "\u001b[36mRetrieving Poetry metadata\u001b[0m\n",
            "\n",
            "# Welcome to \u001b[36mPoetry\u001b[0m!\n",
            "\n",
            "This will download and install the latest version of \u001b[36mPoetry\u001b[0m,\n",
            "a dependency and package manager for Python.\n",
            "\n",
            "It will add the `poetry` command to \u001b[36mPoetry\u001b[0m's bin directory, located at:\n",
            "\n",
            "\u001b[33m/root/.local/bin\u001b[0m\n",
            "\n",
            "You can uninstall at any time by executing this script with the --uninstall option,\n",
            "and these changes will be reverted.\n",
            "\n",
            "Installing \u001b[36mPoetry\u001b[0m (\u001b[36m2.1.1\u001b[0m)\n",
            "\u001b[1A\u001b[2KInstalling \u001b[36mPoetry\u001b[0m (\u001b[1m2.1.1\u001b[0m): \u001b[33mCreating environment\u001b[0m\n",
            "\u001b[1A\u001b[2KInstalling \u001b[36mPoetry\u001b[0m (\u001b[1m2.1.1\u001b[0m): \u001b[33mInstalling Poetry\u001b[0m\n",
            "\u001b[1A\u001b[2KInstalling \u001b[36mPoetry\u001b[0m (\u001b[1m2.1.1\u001b[0m): \u001b[33mCreating script\u001b[0m\n",
            "\u001b[1A\u001b[2KInstalling \u001b[36mPoetry\u001b[0m (\u001b[1m2.1.1\u001b[0m): \u001b[33mDone\u001b[0m\n",
            "\n",
            "\u001b[36mPoetry\u001b[0m (\u001b[1m2.1.1\u001b[0m) is installed now. Great!\n",
            "\n",
            "To get started you need \u001b[36mPoetry\u001b[0m's bin directory (\u001b[33m/root/.local/bin\u001b[0m) in your `PATH`\n",
            "environment variable.\n",
            "\n",
            "Add `export PATH=\"\u001b[33m/root/.local/bin\u001b[0m:$PATH\"` to your shell configuration file.\n",
            "\n",
            "Alternatively, you can call \u001b[36mPoetry\u001b[0m explicitly with `\u001b[1m/root/.local/bin/poetry\u001b[0m`.\n",
            "\n",
            "You can test that everything is set up by executing:\n",
            "\n",
            "`\u001b[1mpoetry --version\u001b[0m`\n",
            "\n",
            "/root/.local/bin/poetry\n"
          ]
        }
      ]
    },
    {
      "cell_type": "markdown",
      "id": "fd5240c4",
      "metadata": {
        "id": "fd5240c4"
      },
      "source": [
        "## Steps for bias discovery, measurement, and mitigation\n",
        "Following steps are performed in this notebook for bias discovery, measurement, and mitigation.\n",
        "1. Import necessary libraries (Install AIF360 using `pip install git+https://github.com/Trusted-AI/AIF360`)\n",
        "2. Load the original dataset\n",
        "3. Identifying the biased subgroups using MDSS (\"privileged\"/\"unprivileged\" groups)\n",
        "4. Computation of bias metrics for these subgroups\n",
        "5. Bias mitigation using a post-processing approach\n",
        "6. Summary"
      ]
    },
    {
      "cell_type": "code",
      "execution_count": null,
      "id": "3L6-mQILNPHq",
      "metadata": {
        "colab": {
          "base_uri": "https://localhost:8080/"
        },
        "id": "3L6-mQILNPHq",
        "outputId": "46006965-930d-41c4-d0d0-7823923f4705"
      },
      "outputs": [
        {
          "output_type": "stream",
          "name": "stdout",
          "text": [
            "Collecting git+https://github.com/Trusted-AI/AIF360\n",
            "  Cloning https://github.com/Trusted-AI/AIF360 to /tmp/pip-req-build-fixftn4r\n",
            "  Running command git clone --filter=blob:none --quiet https://github.com/Trusted-AI/AIF360 /tmp/pip-req-build-fixftn4r\n",
            "  Resolved https://github.com/Trusted-AI/AIF360 to commit cd7e2138b7919e0796db7e7902bf49b20065f4f8\n",
            "  Preparing metadata (setup.py) ... \u001b[?25l\u001b[?25hdone\n",
            "Requirement already satisfied: numpy>=1.16 in /usr/local/lib/python3.11/dist-packages (from aif360==0.6.1) (2.0.2)\n",
            "Requirement already satisfied: scipy>=1.2.0 in /usr/local/lib/python3.11/dist-packages (from aif360==0.6.1) (1.14.1)\n",
            "Requirement already satisfied: pandas>=0.24.0 in /usr/local/lib/python3.11/dist-packages (from aif360==0.6.1) (2.2.2)\n",
            "Requirement already satisfied: scikit-learn>=1.0 in /usr/local/lib/python3.11/dist-packages (from aif360==0.6.1) (1.6.1)\n",
            "Requirement already satisfied: matplotlib in /usr/local/lib/python3.11/dist-packages (from aif360==0.6.1) (3.10.0)\n",
            "Requirement already satisfied: python-dateutil>=2.8.2 in /usr/local/lib/python3.11/dist-packages (from pandas>=0.24.0->aif360==0.6.1) (2.8.2)\n",
            "Requirement already satisfied: pytz>=2020.1 in /usr/local/lib/python3.11/dist-packages (from pandas>=0.24.0->aif360==0.6.1) (2025.1)\n",
            "Requirement already satisfied: tzdata>=2022.7 in /usr/local/lib/python3.11/dist-packages (from pandas>=0.24.0->aif360==0.6.1) (2025.1)\n",
            "Requirement already satisfied: joblib>=1.2.0 in /usr/local/lib/python3.11/dist-packages (from scikit-learn>=1.0->aif360==0.6.1) (1.4.2)\n",
            "Requirement already satisfied: threadpoolctl>=3.1.0 in /usr/local/lib/python3.11/dist-packages (from scikit-learn>=1.0->aif360==0.6.1) (3.6.0)\n",
            "Requirement already satisfied: contourpy>=1.0.1 in /usr/local/lib/python3.11/dist-packages (from matplotlib->aif360==0.6.1) (1.3.1)\n",
            "Requirement already satisfied: cycler>=0.10 in /usr/local/lib/python3.11/dist-packages (from matplotlib->aif360==0.6.1) (0.12.1)\n",
            "Requirement already satisfied: fonttools>=4.22.0 in /usr/local/lib/python3.11/dist-packages (from matplotlib->aif360==0.6.1) (4.56.0)\n",
            "Requirement already satisfied: kiwisolver>=1.3.1 in /usr/local/lib/python3.11/dist-packages (from matplotlib->aif360==0.6.1) (1.4.8)\n",
            "Requirement already satisfied: packaging>=20.0 in /usr/local/lib/python3.11/dist-packages (from matplotlib->aif360==0.6.1) (24.2)\n",
            "Requirement already satisfied: pillow>=8 in /usr/local/lib/python3.11/dist-packages (from matplotlib->aif360==0.6.1) (11.1.0)\n",
            "Requirement already satisfied: pyparsing>=2.3.1 in /usr/local/lib/python3.11/dist-packages (from matplotlib->aif360==0.6.1) (3.2.1)\n",
            "Requirement already satisfied: six>=1.5 in /usr/local/lib/python3.11/dist-packages (from python-dateutil>=2.8.2->pandas>=0.24.0->aif360==0.6.1) (1.17.0)\n",
            "Building wheels for collected packages: aif360\n",
            "  Building wheel for aif360 (setup.py) ... \u001b[?25l\u001b[?25hdone\n",
            "  Created wheel for aif360: filename=aif360-0.6.1-py3-none-any.whl size=259603 sha256=35b15d8b6cf57418ae86010f35097893a3a621f6f509f3152f9531ee2ea76b84\n",
            "  Stored in directory: /tmp/pip-ephem-wheel-cache-c81k4cz0/wheels/7a/c0/95/28a667eb4ed704b45bee5d7cafdb766fd865e46645c005c5bf\n",
            "Successfully built aif360\n",
            "Installing collected packages: aif360\n",
            "Successfully installed aif360-0.6.1\n",
            "--2025-03-22 15:35:26--  https://dax-cdn.cdn.appdomain.cloud/dax-bias-in-advertising/1.0.0/bias-in-advertising.tar.gz\n",
            "Resolving dax-cdn.cdn.appdomain.cloud (dax-cdn.cdn.appdomain.cloud)... 23.54.39.246, 2600:1409:9800:794::d2d, 2600:1409:9800:78c::d2d\n",
            "Connecting to dax-cdn.cdn.appdomain.cloud (dax-cdn.cdn.appdomain.cloud)|23.54.39.246|:443... connected.\n",
            "HTTP request sent, awaiting response... 200 OK\n",
            "Length: 18225718 (17M) [application/x-gzip]\n",
            "Saving to: ‘bias-in-advertising.tar.gz’\n",
            "\n",
            "bias-in-advertising 100%[===================>]  17.38M  79.9MB/s    in 0.2s    \n",
            "\n",
            "2025-03-22 15:35:26 (79.9 MB/s) - ‘bias-in-advertising.tar.gz’ saved [18225718/18225718]\n",
            "\n",
            "bias-in-advertising/\n",
            "bias-in-advertising/ad_campaign_data.csv\n",
            "bias-in-advertising/README.txt\n",
            "bias-in-advertising/LICENSE.txt\n"
          ]
        }
      ],
      "source": [
        "# Note poetry causes an error regarding numpy when used, therefore it's preferred to use pip in this case\n",
        "!pip install git+https://github.com/Trusted-AI/AIF360\n",
        "# download dataset\n",
        "!wget https://dax-cdn.cdn.appdomain.cloud/dax-bias-in-advertising/1.0.0/bias-in-advertising.tar.gz\n",
        "!tar -xvzf bias-in-advertising.tar.gz\n",
        "!rm -rd bias-in-advertising.tar.gz"
      ]
    },
    {
      "cell_type": "code",
      "execution_count": null,
      "id": "ET6HoObDNoI2",
      "metadata": {
        "id": "ET6HoObDNoI2"
      },
      "outputs": [],
      "source": [
        "!cp bias-in-advertising/ad_campaign_data.csv ."
      ]
    },
    {
      "cell_type": "markdown",
      "id": "8551d196",
      "metadata": {
        "id": "8551d196"
      },
      "source": [
        "### Import libraries"
      ]
    },
    {
      "cell_type": "code",
      "execution_count": null,
      "id": "ae7db9b0",
      "metadata": {
        "colab": {
          "base_uri": "https://localhost:8080/"
        },
        "id": "ae7db9b0",
        "outputId": "81159feb-725e-4015-d0a6-b4661df63466"
      },
      "outputs": [
        {
          "output_type": "stream",
          "name": "stderr",
          "text": [
            "WARNING:root:No module named 'fairlearn': ExponentiatedGradientReduction will be unavailable. To install, run:\n",
            "pip install 'aif360[Reductions]'\n",
            "WARNING:root:No module named 'fairlearn': GridSearchReduction will be unavailable. To install, run:\n",
            "pip install 'aif360[Reductions]'\n",
            "WARNING:root:No module named 'inFairness': SenSeI and SenSR will be unavailable. To install, run:\n",
            "pip install 'aif360[inFairness]'\n",
            "WARNING:root:No module named 'fairlearn': GridSearchReduction will be unavailable. To install, run:\n",
            "pip install 'aif360[Reductions]'\n"
          ]
        }
      ],
      "source": [
        "import pandas as pd\n",
        "import numpy as np\n",
        "from pprint import pprint\n",
        "\n",
        "from aif360.datasets import StandardDataset\n",
        "from aif360.metrics import ClassificationMetric, BinaryLabelDatasetMetric\n",
        "from aif360.algorithms.postprocessing import RejectOptionClassification\n",
        "from aif360.detectors.mdss.ScoringFunctions import Bernoulli\n",
        "from aif360.detectors.mdss.MDSS import MDSS\n",
        "from aif360.detectors.mdss.generator import get_random_subset\n",
        "\n",
        "from IPython.display import Markdown, display"
      ]
    },
    {
      "cell_type": "markdown",
      "id": "4e2d07eb",
      "metadata": {
        "id": "4e2d07eb"
      },
      "source": [
        "### Load the dataset"
      ]
    },
    {
      "cell_type": "markdown",
      "id": "Bcpqu-CvLGxO",
      "metadata": {
        "collapsed": false,
        "id": "Bcpqu-CvLGxO",
        "jupyter": {
          "outputs_hidden": false
        },
        "pycharm": {
          "name": "#%% md\n"
        }
      },
      "source": [
        "For this exercise, you can download the synthetic dataset from this [link](https://developer.ibm.com/exchanges/data/all/bias-in-advertising/) and place the data in the same location where this notebook is running."
      ]
    },
    {
      "cell_type": "code",
      "execution_count": null,
      "id": "386a8777",
      "metadata": {
        "colab": {
          "base_uri": "https://localhost:8080/",
          "height": 206
        },
        "id": "386a8777",
        "outputId": "e608d03a-d9d8-4b29-9ac9-2d34abcbb0be"
      },
      "outputs": [
        {
          "output_type": "execute_result",
          "data": {
            "text/plain": [
              "          religion politics  college_educated  parents  homeowner   gender  \\\n",
              "535        Unknown  Unknown                 1        1          1        M   \n",
              "2143       Unknown  Unknown                 1        1          1  Unknown   \n",
              "2178       Unknown  Unknown                 1        1          1        M   \n",
              "4254       Unknown  Unknown                 1        1          0        M   \n",
              "7841  Christianity  Unknown                 1        1          1  Unknown   \n",
              "\n",
              "        age   income     area  true_conversion  predicted_conversion  \\\n",
              "535   55-64  Unknown    Urban                1                     0   \n",
              "2143  55-64  Unknown  Unknown                1                     0   \n",
              "2178  55-64  Unknown  Unknown                1                     0   \n",
              "4254  55-64  Unknown  Unknown                1                     0   \n",
              "7841  55-64  Unknown  Unknown                1                     0   \n",
              "\n",
              "      predicted_probability  \n",
              "535                0.018890  \n",
              "2143               0.001784  \n",
              "2178               0.007122  \n",
              "4254               0.001454  \n",
              "7841               0.183981  "
            ],
            "text/html": [
              "\n",
              "  <div id=\"df-47e88954-3fa0-44e3-acf4-93ef52240e6b\" class=\"colab-df-container\">\n",
              "    <div>\n",
              "<style scoped>\n",
              "    .dataframe tbody tr th:only-of-type {\n",
              "        vertical-align: middle;\n",
              "    }\n",
              "\n",
              "    .dataframe tbody tr th {\n",
              "        vertical-align: top;\n",
              "    }\n",
              "\n",
              "    .dataframe thead th {\n",
              "        text-align: right;\n",
              "    }\n",
              "</style>\n",
              "<table border=\"1\" class=\"dataframe\">\n",
              "  <thead>\n",
              "    <tr style=\"text-align: right;\">\n",
              "      <th></th>\n",
              "      <th>religion</th>\n",
              "      <th>politics</th>\n",
              "      <th>college_educated</th>\n",
              "      <th>parents</th>\n",
              "      <th>homeowner</th>\n",
              "      <th>gender</th>\n",
              "      <th>age</th>\n",
              "      <th>income</th>\n",
              "      <th>area</th>\n",
              "      <th>true_conversion</th>\n",
              "      <th>predicted_conversion</th>\n",
              "      <th>predicted_probability</th>\n",
              "    </tr>\n",
              "  </thead>\n",
              "  <tbody>\n",
              "    <tr>\n",
              "      <th>535</th>\n",
              "      <td>Unknown</td>\n",
              "      <td>Unknown</td>\n",
              "      <td>1</td>\n",
              "      <td>1</td>\n",
              "      <td>1</td>\n",
              "      <td>M</td>\n",
              "      <td>55-64</td>\n",
              "      <td>Unknown</td>\n",
              "      <td>Urban</td>\n",
              "      <td>1</td>\n",
              "      <td>0</td>\n",
              "      <td>0.018890</td>\n",
              "    </tr>\n",
              "    <tr>\n",
              "      <th>2143</th>\n",
              "      <td>Unknown</td>\n",
              "      <td>Unknown</td>\n",
              "      <td>1</td>\n",
              "      <td>1</td>\n",
              "      <td>1</td>\n",
              "      <td>Unknown</td>\n",
              "      <td>55-64</td>\n",
              "      <td>Unknown</td>\n",
              "      <td>Unknown</td>\n",
              "      <td>1</td>\n",
              "      <td>0</td>\n",
              "      <td>0.001784</td>\n",
              "    </tr>\n",
              "    <tr>\n",
              "      <th>2178</th>\n",
              "      <td>Unknown</td>\n",
              "      <td>Unknown</td>\n",
              "      <td>1</td>\n",
              "      <td>1</td>\n",
              "      <td>1</td>\n",
              "      <td>M</td>\n",
              "      <td>55-64</td>\n",
              "      <td>Unknown</td>\n",
              "      <td>Unknown</td>\n",
              "      <td>1</td>\n",
              "      <td>0</td>\n",
              "      <td>0.007122</td>\n",
              "    </tr>\n",
              "    <tr>\n",
              "      <th>4254</th>\n",
              "      <td>Unknown</td>\n",
              "      <td>Unknown</td>\n",
              "      <td>1</td>\n",
              "      <td>1</td>\n",
              "      <td>0</td>\n",
              "      <td>M</td>\n",
              "      <td>55-64</td>\n",
              "      <td>Unknown</td>\n",
              "      <td>Unknown</td>\n",
              "      <td>1</td>\n",
              "      <td>0</td>\n",
              "      <td>0.001454</td>\n",
              "    </tr>\n",
              "    <tr>\n",
              "      <th>7841</th>\n",
              "      <td>Christianity</td>\n",
              "      <td>Unknown</td>\n",
              "      <td>1</td>\n",
              "      <td>1</td>\n",
              "      <td>1</td>\n",
              "      <td>Unknown</td>\n",
              "      <td>55-64</td>\n",
              "      <td>Unknown</td>\n",
              "      <td>Unknown</td>\n",
              "      <td>1</td>\n",
              "      <td>0</td>\n",
              "      <td>0.183981</td>\n",
              "    </tr>\n",
              "  </tbody>\n",
              "</table>\n",
              "</div>\n",
              "    <div class=\"colab-df-buttons\">\n",
              "\n",
              "  <div class=\"colab-df-container\">\n",
              "    <button class=\"colab-df-convert\" onclick=\"convertToInteractive('df-47e88954-3fa0-44e3-acf4-93ef52240e6b')\"\n",
              "            title=\"Convert this dataframe to an interactive table.\"\n",
              "            style=\"display:none;\">\n",
              "\n",
              "  <svg xmlns=\"http://www.w3.org/2000/svg\" height=\"24px\" viewBox=\"0 -960 960 960\">\n",
              "    <path d=\"M120-120v-720h720v720H120Zm60-500h600v-160H180v160Zm220 220h160v-160H400v160Zm0 220h160v-160H400v160ZM180-400h160v-160H180v160Zm440 0h160v-160H620v160ZM180-180h160v-160H180v160Zm440 0h160v-160H620v160Z\"/>\n",
              "  </svg>\n",
              "    </button>\n",
              "\n",
              "  <style>\n",
              "    .colab-df-container {\n",
              "      display:flex;\n",
              "      gap: 12px;\n",
              "    }\n",
              "\n",
              "    .colab-df-convert {\n",
              "      background-color: #E8F0FE;\n",
              "      border: none;\n",
              "      border-radius: 50%;\n",
              "      cursor: pointer;\n",
              "      display: none;\n",
              "      fill: #1967D2;\n",
              "      height: 32px;\n",
              "      padding: 0 0 0 0;\n",
              "      width: 32px;\n",
              "    }\n",
              "\n",
              "    .colab-df-convert:hover {\n",
              "      background-color: #E2EBFA;\n",
              "      box-shadow: 0px 1px 2px rgba(60, 64, 67, 0.3), 0px 1px 3px 1px rgba(60, 64, 67, 0.15);\n",
              "      fill: #174EA6;\n",
              "    }\n",
              "\n",
              "    .colab-df-buttons div {\n",
              "      margin-bottom: 4px;\n",
              "    }\n",
              "\n",
              "    [theme=dark] .colab-df-convert {\n",
              "      background-color: #3B4455;\n",
              "      fill: #D2E3FC;\n",
              "    }\n",
              "\n",
              "    [theme=dark] .colab-df-convert:hover {\n",
              "      background-color: #434B5C;\n",
              "      box-shadow: 0px 1px 3px 1px rgba(0, 0, 0, 0.15);\n",
              "      filter: drop-shadow(0px 1px 2px rgba(0, 0, 0, 0.3));\n",
              "      fill: #FFFFFF;\n",
              "    }\n",
              "  </style>\n",
              "\n",
              "    <script>\n",
              "      const buttonEl =\n",
              "        document.querySelector('#df-47e88954-3fa0-44e3-acf4-93ef52240e6b button.colab-df-convert');\n",
              "      buttonEl.style.display =\n",
              "        google.colab.kernel.accessAllowed ? 'block' : 'none';\n",
              "\n",
              "      async function convertToInteractive(key) {\n",
              "        const element = document.querySelector('#df-47e88954-3fa0-44e3-acf4-93ef52240e6b');\n",
              "        const dataTable =\n",
              "          await google.colab.kernel.invokeFunction('convertToInteractive',\n",
              "                                                    [key], {});\n",
              "        if (!dataTable) return;\n",
              "\n",
              "        const docLinkHtml = 'Like what you see? Visit the ' +\n",
              "          '<a target=\"_blank\" href=https://colab.research.google.com/notebooks/data_table.ipynb>data table notebook</a>'\n",
              "          + ' to learn more about interactive tables.';\n",
              "        element.innerHTML = '';\n",
              "        dataTable['output_type'] = 'display_data';\n",
              "        await google.colab.output.renderOutput(dataTable, element);\n",
              "        const docLink = document.createElement('div');\n",
              "        docLink.innerHTML = docLinkHtml;\n",
              "        element.appendChild(docLink);\n",
              "      }\n",
              "    </script>\n",
              "  </div>\n",
              "\n",
              "\n",
              "<div id=\"df-0ff51c73-8644-4c39-a207-9ed4ddedb6d8\">\n",
              "  <button class=\"colab-df-quickchart\" onclick=\"quickchart('df-0ff51c73-8644-4c39-a207-9ed4ddedb6d8')\"\n",
              "            title=\"Suggest charts\"\n",
              "            style=\"display:none;\">\n",
              "\n",
              "<svg xmlns=\"http://www.w3.org/2000/svg\" height=\"24px\"viewBox=\"0 0 24 24\"\n",
              "     width=\"24px\">\n",
              "    <g>\n",
              "        <path d=\"M19 3H5c-1.1 0-2 .9-2 2v14c0 1.1.9 2 2 2h14c1.1 0 2-.9 2-2V5c0-1.1-.9-2-2-2zM9 17H7v-7h2v7zm4 0h-2V7h2v10zm4 0h-2v-4h2v4z\"/>\n",
              "    </g>\n",
              "</svg>\n",
              "  </button>\n",
              "\n",
              "<style>\n",
              "  .colab-df-quickchart {\n",
              "      --bg-color: #E8F0FE;\n",
              "      --fill-color: #1967D2;\n",
              "      --hover-bg-color: #E2EBFA;\n",
              "      --hover-fill-color: #174EA6;\n",
              "      --disabled-fill-color: #AAA;\n",
              "      --disabled-bg-color: #DDD;\n",
              "  }\n",
              "\n",
              "  [theme=dark] .colab-df-quickchart {\n",
              "      --bg-color: #3B4455;\n",
              "      --fill-color: #D2E3FC;\n",
              "      --hover-bg-color: #434B5C;\n",
              "      --hover-fill-color: #FFFFFF;\n",
              "      --disabled-bg-color: #3B4455;\n",
              "      --disabled-fill-color: #666;\n",
              "  }\n",
              "\n",
              "  .colab-df-quickchart {\n",
              "    background-color: var(--bg-color);\n",
              "    border: none;\n",
              "    border-radius: 50%;\n",
              "    cursor: pointer;\n",
              "    display: none;\n",
              "    fill: var(--fill-color);\n",
              "    height: 32px;\n",
              "    padding: 0;\n",
              "    width: 32px;\n",
              "  }\n",
              "\n",
              "  .colab-df-quickchart:hover {\n",
              "    background-color: var(--hover-bg-color);\n",
              "    box-shadow: 0 1px 2px rgba(60, 64, 67, 0.3), 0 1px 3px 1px rgba(60, 64, 67, 0.15);\n",
              "    fill: var(--button-hover-fill-color);\n",
              "  }\n",
              "\n",
              "  .colab-df-quickchart-complete:disabled,\n",
              "  .colab-df-quickchart-complete:disabled:hover {\n",
              "    background-color: var(--disabled-bg-color);\n",
              "    fill: var(--disabled-fill-color);\n",
              "    box-shadow: none;\n",
              "  }\n",
              "\n",
              "  .colab-df-spinner {\n",
              "    border: 2px solid var(--fill-color);\n",
              "    border-color: transparent;\n",
              "    border-bottom-color: var(--fill-color);\n",
              "    animation:\n",
              "      spin 1s steps(1) infinite;\n",
              "  }\n",
              "\n",
              "  @keyframes spin {\n",
              "    0% {\n",
              "      border-color: transparent;\n",
              "      border-bottom-color: var(--fill-color);\n",
              "      border-left-color: var(--fill-color);\n",
              "    }\n",
              "    20% {\n",
              "      border-color: transparent;\n",
              "      border-left-color: var(--fill-color);\n",
              "      border-top-color: var(--fill-color);\n",
              "    }\n",
              "    30% {\n",
              "      border-color: transparent;\n",
              "      border-left-color: var(--fill-color);\n",
              "      border-top-color: var(--fill-color);\n",
              "      border-right-color: var(--fill-color);\n",
              "    }\n",
              "    40% {\n",
              "      border-color: transparent;\n",
              "      border-right-color: var(--fill-color);\n",
              "      border-top-color: var(--fill-color);\n",
              "    }\n",
              "    60% {\n",
              "      border-color: transparent;\n",
              "      border-right-color: var(--fill-color);\n",
              "    }\n",
              "    80% {\n",
              "      border-color: transparent;\n",
              "      border-right-color: var(--fill-color);\n",
              "      border-bottom-color: var(--fill-color);\n",
              "    }\n",
              "    90% {\n",
              "      border-color: transparent;\n",
              "      border-bottom-color: var(--fill-color);\n",
              "    }\n",
              "  }\n",
              "</style>\n",
              "\n",
              "  <script>\n",
              "    async function quickchart(key) {\n",
              "      const quickchartButtonEl =\n",
              "        document.querySelector('#' + key + ' button');\n",
              "      quickchartButtonEl.disabled = true;  // To prevent multiple clicks.\n",
              "      quickchartButtonEl.classList.add('colab-df-spinner');\n",
              "      try {\n",
              "        const charts = await google.colab.kernel.invokeFunction(\n",
              "            'suggestCharts', [key], {});\n",
              "      } catch (error) {\n",
              "        console.error('Error during call to suggestCharts:', error);\n",
              "      }\n",
              "      quickchartButtonEl.classList.remove('colab-df-spinner');\n",
              "      quickchartButtonEl.classList.add('colab-df-quickchart-complete');\n",
              "    }\n",
              "    (() => {\n",
              "      let quickchartButtonEl =\n",
              "        document.querySelector('#df-0ff51c73-8644-4c39-a207-9ed4ddedb6d8 button');\n",
              "      quickchartButtonEl.style.display =\n",
              "        google.colab.kernel.accessAllowed ? 'block' : 'none';\n",
              "    })();\n",
              "  </script>\n",
              "</div>\n",
              "\n",
              "    </div>\n",
              "  </div>\n"
            ],
            "application/vnd.google.colaboratory.intrinsic+json": {
              "type": "dataframe",
              "summary": "{\n  \"name\": \"ad_conversion_dataset\",\n  \"rows\": 5,\n  \"fields\": [\n    {\n      \"column\": \"religion\",\n      \"properties\": {\n        \"dtype\": \"category\",\n        \"num_unique_values\": 2,\n        \"samples\": [\n          \"Christianity\",\n          \"Unknown\"\n        ],\n        \"semantic_type\": \"\",\n        \"description\": \"\"\n      }\n    },\n    {\n      \"column\": \"politics\",\n      \"properties\": {\n        \"dtype\": \"category\",\n        \"num_unique_values\": 1,\n        \"samples\": [\n          \"Unknown\"\n        ],\n        \"semantic_type\": \"\",\n        \"description\": \"\"\n      }\n    },\n    {\n      \"column\": \"college_educated\",\n      \"properties\": {\n        \"dtype\": \"number\",\n        \"std\": 0,\n        \"min\": 1,\n        \"max\": 1,\n        \"num_unique_values\": 1,\n        \"samples\": [\n          1\n        ],\n        \"semantic_type\": \"\",\n        \"description\": \"\"\n      }\n    },\n    {\n      \"column\": \"parents\",\n      \"properties\": {\n        \"dtype\": \"number\",\n        \"std\": 0,\n        \"min\": 1,\n        \"max\": 1,\n        \"num_unique_values\": 1,\n        \"samples\": [\n          1\n        ],\n        \"semantic_type\": \"\",\n        \"description\": \"\"\n      }\n    },\n    {\n      \"column\": \"homeowner\",\n      \"properties\": {\n        \"dtype\": \"number\",\n        \"std\": 0,\n        \"min\": 0,\n        \"max\": 1,\n        \"num_unique_values\": 2,\n        \"samples\": [\n          0\n        ],\n        \"semantic_type\": \"\",\n        \"description\": \"\"\n      }\n    },\n    {\n      \"column\": \"gender\",\n      \"properties\": {\n        \"dtype\": \"category\",\n        \"num_unique_values\": 2,\n        \"samples\": [\n          \"Unknown\"\n        ],\n        \"semantic_type\": \"\",\n        \"description\": \"\"\n      }\n    },\n    {\n      \"column\": \"age\",\n      \"properties\": {\n        \"dtype\": \"category\",\n        \"num_unique_values\": 1,\n        \"samples\": [\n          \"55-64\"\n        ],\n        \"semantic_type\": \"\",\n        \"description\": \"\"\n      }\n    },\n    {\n      \"column\": \"income\",\n      \"properties\": {\n        \"dtype\": \"category\",\n        \"num_unique_values\": 1,\n        \"samples\": [\n          \"Unknown\"\n        ],\n        \"semantic_type\": \"\",\n        \"description\": \"\"\n      }\n    },\n    {\n      \"column\": \"area\",\n      \"properties\": {\n        \"dtype\": \"category\",\n        \"num_unique_values\": 2,\n        \"samples\": [\n          \"Unknown\"\n        ],\n        \"semantic_type\": \"\",\n        \"description\": \"\"\n      }\n    },\n    {\n      \"column\": \"true_conversion\",\n      \"properties\": {\n        \"dtype\": \"number\",\n        \"std\": 0,\n        \"min\": 1,\n        \"max\": 1,\n        \"num_unique_values\": 1,\n        \"samples\": [\n          1\n        ],\n        \"semantic_type\": \"\",\n        \"description\": \"\"\n      }\n    },\n    {\n      \"column\": \"predicted_conversion\",\n      \"properties\": {\n        \"dtype\": \"number\",\n        \"std\": 0,\n        \"min\": 0,\n        \"max\": 0,\n        \"num_unique_values\": 1,\n        \"samples\": [\n          0\n        ],\n        \"semantic_type\": \"\",\n        \"description\": \"\"\n      }\n    },\n    {\n      \"column\": \"predicted_probability\",\n      \"properties\": {\n        \"dtype\": \"number\",\n        \"std\": 0.07932258359270894,\n        \"min\": 0.0014543002694199,\n        \"max\": 0.1839809492002442,\n        \"num_unique_values\": 5,\n        \"samples\": [\n          0.0017842341003025\n        ],\n        \"semantic_type\": \"\",\n        \"description\": \"\"\n      }\n    }\n  ]\n}"
            }
          },
          "metadata": {},
          "execution_count": 4
        }
      ],
      "source": [
        "ad_conversion_dataset = pd.read_csv('ad_campaign_data.csv')\n",
        "ad_conversion_dataset.query(\"true_conversion == 1\").head()"
      ]
    },
    {
      "cell_type": "markdown",
      "id": "a23976e9",
      "metadata": {
        "id": "a23976e9"
      },
      "source": [
        "Here the column `true_conversion` indicates whether the user actually clicked on the advertisement, `predicted_conversion` indicates predicted conversion by the machine learning model and `predicted_probability` is the probability of the user clicking the advertisement according to the model. The predicted probability was thresholded at approximately 0.365 to obtain predicted conversions. This threshold was chosen because it led to parity in actual and predicted conversion rates.\n",
        "\n",
        "Next we get some summary on the number of true conversions and predicted conversions."
      ]
    },
    {
      "cell_type": "code",
      "execution_count": null,
      "id": "c61a2d1b",
      "metadata": {
        "colab": {
          "base_uri": "https://localhost:8080/"
        },
        "id": "c61a2d1b",
        "outputId": "b66ee642-5179-46d2-b534-fc2ac1b1980e"
      },
      "outputs": [
        {
          "output_type": "stream",
          "name": "stdout",
          "text": [
            "Number of (instances, attributes) in the dataset = (1443140, 12)\n"
          ]
        }
      ],
      "source": [
        "print(f\"Number of (instances, attributes) in the dataset = {ad_conversion_dataset.shape}\")"
      ]
    },
    {
      "cell_type": "code",
      "execution_count": null,
      "id": "4b0a1f13",
      "metadata": {
        "colab": {
          "base_uri": "https://localhost:8080/"
        },
        "id": "4b0a1f13",
        "outputId": "cfc0d76c-0cb3-471c-f57a-c29bbd2dc3c0"
      },
      "outputs": [
        {
          "output_type": "stream",
          "name": "stdout",
          "text": [
            "Statistics of true conversions (0=no, 1=yes)\n",
            "true_conversion\n",
            "0    1440766\n",
            "1       2374\n",
            "Name: count, dtype: int64\n"
          ]
        }
      ],
      "source": [
        "print(f\"Statistics of true conversions (0=no, 1=yes)\")\n",
        "print(ad_conversion_dataset.true_conversion.value_counts())"
      ]
    },
    {
      "cell_type": "code",
      "execution_count": null,
      "id": "25064262",
      "metadata": {
        "colab": {
          "base_uri": "https://localhost:8080/"
        },
        "id": "25064262",
        "outputId": "86c5566c-5b5a-46e6-8a58-c8b4d126f87f"
      },
      "outputs": [
        {
          "output_type": "stream",
          "name": "stdout",
          "text": [
            "Statistics of predicted conversions (0=no, 1=yes)\n",
            "predicted_conversion\n",
            "0    1440773\n",
            "1       2367\n",
            "Name: count, dtype: int64\n"
          ]
        }
      ],
      "source": [
        "print(f\"Statistics of predicted conversions (0=no, 1=yes)\")\n",
        "print(ad_conversion_dataset.predicted_conversion.value_counts())"
      ]
    },
    {
      "cell_type": "markdown",
      "id": "4cc76398",
      "metadata": {
        "id": "4cc76398"
      },
      "source": [
        "There are approximately 1.4M rows total with only 2.3k true and predicted conversions."
      ]
    },
    {
      "cell_type": "markdown",
      "id": "0db4b6d3",
      "metadata": {
        "id": "0db4b6d3"
      },
      "source": [
        "## Multi dimensional subset scan evaluation for automated identification of subgroups that have predictive bias."
      ]
    },
    {
      "cell_type": "markdown",
      "id": "03ab958a",
      "metadata": {
        "id": "03ab958a"
      },
      "source": [
        "To identify the privileged subgroups in the dataset, we will use the utility - `Multi Dimensional Subset Scan(MDSS)`.\n",
        "\n",
        "Subset Scanning seeks to provide insights at the subset-level of data and models.  A brute-force approach is computationally expensive because there are exponentially-many subsets to investigate for bias between the observed and predicted number of conversions (clicks).\n",
        "\n",
        "We highlight which features (columns) form the search-space of possible subsets."
      ]
    },
    {
      "cell_type": "code",
      "execution_count": null,
      "id": "8cddb214",
      "metadata": {
        "id": "8cddb214"
      },
      "outputs": [],
      "source": [
        "features_4_scanning = ['college_educated','parents','homeowner','gender','age','income','area','politics','religion']"
      ]
    },
    {
      "cell_type": "code",
      "execution_count": null,
      "id": "5deb754e",
      "metadata": {
        "id": "5deb754e"
      },
      "outputs": [],
      "source": [
        "def print_report(data, subset):\n",
        "    \"\"\" Utility function to pretty-print the subsets.\"\"\"\n",
        "    if subset:\n",
        "        to_choose = ad_conversion_dataset[subset.keys()].isin(subset).all(axis = 1)\n",
        "        df = ad_conversion_dataset[['true_conversion', 'predicted_conversion']][to_choose]\n",
        "    else:\n",
        "        for col in features_4_scanning:\n",
        "            subset[col] = list(ad_conversion_dataset[col].unique())\n",
        "        df = ad_conversion_dataset[['true_conversion', 'predicted_conversion']]\n",
        "\n",
        "    true = df['true_conversion'].sum()\n",
        "    pred = df['predicted_conversion'].sum()\n",
        "\n",
        "    print('\\033[1mSubset: \\033[0m')\n",
        "    pprint(subset)\n",
        "    print('\\033[1mSubset Size: \\033[0m', len(df))\n",
        "    print('\\033[1mTrue Clicks: \\033[0m', true)\n",
        "    print('\\033[1mPredicted Clicks: \\033[0m', pred)\n",
        "    print()"
      ]
    },
    {
      "cell_type": "markdown",
      "id": "56b609d1",
      "metadata": {
        "id": "56b609d1"
      },
      "source": [
        "How do true and predicted clicks vary for randomly selected subsets?  Here we select random subsets (that contain at least 10k records) and compare the true and predicted clicks.  If the model is moderately accurate than these numbers should be close to each other for most (randomly selected subsets).\n",
        "\n",
        "For a seed value of 11 we get the subset politics = unknown and religion = other. This group had 357 true and 376 predicted clicks. For a seed value of 55, we similarly get the subset age = 55-64, area = Unknown, and religion = Unknown with 1090 true clicks and 1431 predicted clicks.\n",
        "\n",
        "Feel free to try your own random seeds."
      ]
    },
    {
      "cell_type": "code",
      "execution_count": null,
      "id": "f0965c19",
      "metadata": {
        "colab": {
          "base_uri": "https://localhost:8080/"
        },
        "id": "f0965c19",
        "outputId": "d552e40f-519a-4f35-9427-84de3bea2c87"
      },
      "outputs": [
        {
          "output_type": "stream",
          "name": "stdout",
          "text": [
            "\u001b[1mSubset: \u001b[0m\n",
            "{'politics': ['Unknown'], 'religion': ['Other']}\n",
            "\u001b[1mSubset Size: \u001b[0m 214101\n",
            "\u001b[1mTrue Clicks: \u001b[0m 357\n",
            "\u001b[1mPredicted Clicks: \u001b[0m 376\n",
            "\n"
          ]
        }
      ],
      "source": [
        "np.random.seed(11)\n",
        "random_subset = get_random_subset(ad_conversion_dataset[features_4_scanning], prob = 0.05, min_elements = 10000)\n",
        "print_report(ad_conversion_dataset, random_subset)"
      ]
    },
    {
      "cell_type": "markdown",
      "id": "5903cf78",
      "metadata": {
        "id": "5903cf78"
      },
      "source": [
        "Which subset (of the exponentially-many ones to consider) shows the most divergence between the predicted number of clicks and the true clicks?  In other words, where was the predictive model most biased?\n",
        "\n",
        "**Bias Scan is designed to efficiently detect this group.**"
      ]
    },
    {
      "cell_type": "code",
      "execution_count": null,
      "id": "7059c213",
      "metadata": {
        "colab": {
          "base_uri": "https://localhost:8080/"
        },
        "id": "7059c213",
        "outputId": "69984fb3-9b4e-427e-e64d-d2a68afa820b"
      },
      "outputs": [
        {
          "output_type": "stream",
          "name": "stdout",
          "text": [
            "\u001b[1mSubset: \u001b[0m\n",
            "{'area': ['Unknown', 'Urban'], 'homeowner': [0], 'income': ['>100K', 'Unknown']}\n",
            "\u001b[1mSubset Size: \u001b[0m 153883\n",
            "\u001b[1mTrue Clicks: \u001b[0m 281\n",
            "\u001b[1mPredicted Clicks: \u001b[0m 1907\n",
            "\n"
          ]
        }
      ],
      "source": [
        "# Bias scan\n",
        "scoring_function = Bernoulli(direction='negative')\n",
        "scanner = MDSS(scoring_function)\n",
        "\n",
        "scanned_subset, _ = scanner.scan(ad_conversion_dataset[features_4_scanning],\n",
        "                        expectations = ad_conversion_dataset['predicted_conversion'],\n",
        "                        outcomes = ad_conversion_dataset['true_conversion'],\n",
        "                        penalty = 1,\n",
        "                        num_iters = 1,\n",
        "                        verbose = False)\n",
        "\n",
        "print_report(ad_conversion_dataset, scanned_subset)"
      ]
    },
    {
      "cell_type": "markdown",
      "id": "b412c142",
      "metadata": {
        "id": "b412c142"
      },
      "source": [
        "Non-homeowners making more than 100k (or unknown) and living in an urban (or unknown) area are a highly anomalous subset of data identified by scanning.  \n",
        "\n",
        "The predictive model expected 1907 clicks from this group but in reality there were only 281.  The model is extremely over-estimating this group.  \n",
        "\n",
        "\n",
        "For simplicity we will proceed with the notebook using homeowner status as the protected feature"
      ]
    },
    {
      "cell_type": "code",
      "execution_count": null,
      "id": "de783f7d",
      "metadata": {
        "colab": {
          "base_uri": "https://localhost:8080/"
        },
        "id": "de783f7d",
        "outputId": "1236518f-fdb0-4a74-eaa4-14676827cbd9"
      },
      "outputs": [
        {
          "output_type": "stream",
          "name": "stdout",
          "text": [
            "\u001b[1mSubset: \u001b[0m\n",
            "{'homeowner': [0]}\n",
            "\u001b[1mSubset Size: \u001b[0m 174654\n",
            "\u001b[1mTrue Clicks: \u001b[0m 332\n",
            "\u001b[1mPredicted Clicks: \u001b[0m 1944\n",
            "\n",
            "\u001b[1mSubset: \u001b[0m\n",
            "{'homeowner': [1]}\n",
            "\u001b[1mSubset Size: \u001b[0m 1268486\n",
            "\u001b[1mTrue Clicks: \u001b[0m 2042\n",
            "\u001b[1mPredicted Clicks: \u001b[0m 423\n",
            "\n"
          ]
        }
      ],
      "source": [
        "print_report(ad_conversion_dataset, {'homeowner':[0]})\n",
        "\n",
        "print_report(ad_conversion_dataset, {'homeowner':[1]})"
      ]
    },
    {
      "cell_type": "markdown",
      "id": "73aaa7bf",
      "metadata": {
        "id": "73aaa7bf"
      },
      "source": [
        "From this scan, it is evident that **users who don't own a home (homeowner=0) constitute the privileged group**, so we will take this as a privileged class for our study. Note that privileged group just means that this group has high predictive bias (our terminology) and does not mean socioeconomic privilege in any way. This privileged class was predicted to click more on ads whereas they didn't click on it in reality, so the machine learning model was biased towards this group."
      ]
    },
    {
      "cell_type": "markdown",
      "id": "de94581a",
      "metadata": {
        "id": "de94581a"
      },
      "source": [
        "### Creating a dataset for use in bias measurement and mitigation\n",
        "\n",
        "We will write a python function to convert a dataset into a Standard dataset which later will be consumed by AIF360"
      ]
    },
    {
      "cell_type": "markdown",
      "id": "d90d5cac",
      "metadata": {
        "id": "d90d5cac"
      },
      "source": [
        "Here we are studying the bias in the dataset to check whether non-homeowners are targeted (shown an advertisement) more compared to other age groups. Hence, privileged group is non-home owners and users who own a home are considred as unprivileged. The `true_conversion` column contains data of whether a user clicked on the advertisement or not, if clicked, the value is 1. If shown but not clicked, value is 0. Other categorical features selected for this study include:\n",
        "- `parents` -- whether the user is a parent or not\n",
        "- `gender` -- Male, Female or Unknown gender\n",
        "- `college_educated` -- whether the user had college education or not\n",
        "- `area` -- the area where they live (Rural or Urban or Unknown)\n",
        "- `income` -- Income >100K, <100K or Unknown\n",
        "- `homeowner` -- whether the user owns a home or not\n",
        "- `age` -- the age group category (18-24, 25-34, 45-54, 55-64, Unknown)"
      ]
    },
    {
      "cell_type": "code",
      "execution_count": null,
      "id": "f252b191",
      "metadata": {
        "id": "f252b191"
      },
      "outputs": [],
      "source": [
        "def convert_to_standard_dataset(df, target_label_name, scores_name=\"\"):\n",
        "\n",
        "    # List of names corresponding to protected attribute columns in the dataset.\n",
        "    # Note that the terminology \"protected attribute\" used in AI Fairness 360 to\n",
        "    # divide the dataset into multiple groups for measuring and mitigating\n",
        "    # group-level bias.\n",
        "    protected_attributes=['homeowner']\n",
        "\n",
        "    # columns from the dataset that we want to select for this Bias study\n",
        "    selected_features = ['gender', 'age', 'income', 'area', 'college_educated', 'homeowner',\n",
        "                         'parents', 'predicted_probability']\n",
        "\n",
        "    # This privileged class is selected based on MDSS subgroup evaluation.\n",
        "    # in previous steps. In our case non-homeowner (homeowner=0) are considered to\n",
        "    # be privileged and homeowners (homeowner=1) are considered as unprivileged.\n",
        "    privileged_classes = [[0]]\n",
        "\n",
        "    # Label values which are considered favorable are listed. All others are\n",
        "    # unfavorable. Label values are mapped to 1 (favorable) and 0 (unfavorable)\n",
        "    # if they are not already binary and numerical.\n",
        "    favorable_target_label = [1]\n",
        "\n",
        "    # List of column names in the DataFrame which are to be expanded into one-hot vectors.\n",
        "    categorical_features = ['parents','gender','college_educated','area','income', 'age']\n",
        "\n",
        "    # create the `StandardDataset` object\n",
        "    standard_dataset = StandardDataset(df=df, label_name=target_label_name,\n",
        "                                    favorable_classes=favorable_target_label,\n",
        "                                    scores_name=scores_name,\n",
        "                                    protected_attribute_names=protected_attributes,\n",
        "                                    privileged_classes=privileged_classes,\n",
        "                                    categorical_features=categorical_features,\n",
        "                                    features_to_keep=selected_features)\n",
        "    if scores_name==\"\":\n",
        "        standard_dataset.scores = standard_dataset.labels.copy()\n",
        "\n",
        "    return standard_dataset"
      ]
    },
    {
      "cell_type": "markdown",
      "id": "e9325659",
      "metadata": {
        "id": "e9325659"
      },
      "source": [
        "Now we will convert our dataset to Standard dataset. `StandardDataset` is a base class for every `BinaryLabelDataset` provided out of the box by AIF360.\n",
        "\n",
        "`StandardDataset` contains a preprocessing routine which:\n",
        "\n",
        "1. (optional) Performs some dataset-specific preprocessing (e.g. renaming columns/values, handling missing data).\n",
        "2. Drops unrequested columns (see features_to_keep and features_to_drop for details).\n",
        "3. Drops rows with NA values.\n",
        "4. Creates a one-hot encoding of the categorical variables.\n",
        "5. Maps protected attributes to binary privileged/unprivileged values (1/0).\n",
        "6. Maps labels to binary favorable/unfavorable labels (1/0).\n"
      ]
    },
    {
      "cell_type": "code",
      "execution_count": null,
      "id": "068ba8ce",
      "metadata": {
        "id": "068ba8ce"
      },
      "outputs": [],
      "source": [
        "# Create two StandardDataset objects - one with true conversions and one with\n",
        "# predicted conversions.\n",
        "\n",
        "# First create the predicted dataset\n",
        "ad_standard_dataset_pred = convert_to_standard_dataset(ad_conversion_dataset,\n",
        "                                            target_label_name = 'predicted_conversion',\n",
        "                                            scores_name='predicted_probability')\n",
        "\n",
        "# Use this to create the original dataset\n",
        "ad_standard_dataset_orig = ad_standard_dataset_pred.copy()\n",
        "ad_standard_dataset_orig.labels = ad_conversion_dataset[\"true_conversion\"].values.reshape(-1, 1)\n",
        "ad_standard_dataset_orig.scores = ad_conversion_dataset[\"true_conversion\"].values.reshape(-1, 1)"
      ]
    },
    {
      "cell_type": "markdown",
      "id": "30d914c3",
      "metadata": {
        "id": "30d914c3"
      },
      "source": [
        "# Compute fairness metric on an entire dataset\n",
        "\n",
        "Bias on the entire dataset is detected using `BinaryLabelDatasetMetric` class for evaluation considering privileged and unprivileged groups. We use the metric *Disparate impact ratio* which is defined as the ratio of the rate of favorable outcomes for the one group to the rate of favorable results for the other group, the two groups (unprivileged and privileged) predetermined by the evaluator or surfaced by some other method like the **Multi-Dimensional Subset Scan(MDSS)**. When this ratio is observed to be less than 1, the first (unprivileged) group is considered disadvantaged compared to the second group. Similarly, if this ratio is much larger than 1, the first (privileged) group is considered to be at a relative advantage. Depending on the scenario, this ratio can vary widely, say from a value close to 0 to a value much larger than 1. These numbers represent the data or algorithms’ bias towards or against specific groups within an audience and could be due to bias in the training data or some inherent unintended bias in the way the algorithms are designed and optimized."
      ]
    },
    {
      "cell_type": "code",
      "execution_count": null,
      "id": "370d479e",
      "metadata": {
        "colab": {
          "base_uri": "https://localhost:8080/"
        },
        "id": "370d479e",
        "outputId": "0d973386-c8ea-4d58-b637-67c2897a3c7d"
      },
      "outputs": [
        {
          "output_type": "stream",
          "name": "stdout",
          "text": [
            "Disparate impact for the original dataset = 0.8469\n",
            "Disparate impact for the predicted dataset = 0.0300\n"
          ]
        }
      ],
      "source": [
        "# After converting dataset to Standard dataset your privileged class will always be 1\n",
        "# & the others would be 0 . If the column is already binary it doesn't convert to 0 & 1.\n",
        "\n",
        "privileged_groups= [{'homeowner': 0}]\n",
        "unprivileged_groups = [{'homeowner': 1}]\n",
        "\n",
        "metric_orig = BinaryLabelDatasetMetric(ad_standard_dataset_orig,\n",
        "                                             unprivileged_groups=unprivileged_groups,\n",
        "                                             privileged_groups=privileged_groups)\n",
        "print(f\"Disparate impact for the original dataset = {metric_orig.disparate_impact():.4f}\")\n",
        "\n",
        "metric_pred = BinaryLabelDatasetMetric(ad_standard_dataset_pred,\n",
        "                                             unprivileged_groups=unprivileged_groups,\n",
        "                                             privileged_groups=privileged_groups)\n",
        "print(f\"Disparate impact for the predicted dataset = {metric_pred.disparate_impact():.4f}\")\n"
      ]
    },
    {
      "cell_type": "markdown",
      "id": "71c46105",
      "metadata": {
        "id": "71c46105"
      },
      "source": [
        "We see that the disparate impact for the original dataset is somewhat close to 1, whereas for the predicted dataset this is very close to 0, indicating high bias. We will attempt to mitigate this by post-processing the predictions."
      ]
    },
    {
      "cell_type": "markdown",
      "id": "83a23487",
      "metadata": {
        "id": "83a23487"
      },
      "source": [
        "## Mitigate Bias by transforming the original dataset\n",
        "We will use **Reject Option Classification (ROC)** as the debiasing function to mitigate bias. *Reject option classification is a postprocessing technique that gives favorable outcomes to unprivileged groups and unfavorable outcomes to privileged groups in a confidence band around the decision boundary with the highest uncertainty.*\n",
        "For this, let's first divide the dataset into training, validation and testing partitions. We will fit the ROC object using the validation partition and test the performance on the test partition."
      ]
    },
    {
      "cell_type": "code",
      "execution_count": null,
      "id": "33042e03",
      "metadata": {
        "colab": {
          "base_uri": "https://localhost:8080/"
        },
        "id": "33042e03",
        "outputId": "a916e609-6d55-4986-8683-2da894453a5d"
      },
      "outputs": [
        {
          "output_type": "stream",
          "name": "stdout",
          "text": [
            "Original training dataset shape: (1010197, 19)\n",
            "Original validation dataset shape: (216471, 19)\n",
            "Original testing dataset shape: (216472, 19)\n",
            "Predicted training shape: (1010197, 19)\n",
            "Predicted validation shape: (216471, 19)\n",
            "Predicted testing shape: (216472, 19)\n"
          ]
        }
      ],
      "source": [
        "# Split the standard dataset into train, test and validation\n",
        "# (use the same random seed to ensure instances are split in the same way)\n",
        "random_seed = 1001\n",
        "dataset_orig_train, dataset_orig_vt = ad_standard_dataset_orig.split([0.7],\n",
        "                                                shuffle=True, seed=random_seed)\n",
        "dataset_orig_valid, dataset_orig_test = dataset_orig_vt.split([0.5],\n",
        "                                                shuffle=True, seed=random_seed+1)\n",
        "\n",
        "print(f\"Original training dataset shape: {dataset_orig_train.features.shape}\")\n",
        "print(f\"Original validation dataset shape: {dataset_orig_valid.features.shape}\")\n",
        "print(f\"Original testing dataset shape: {dataset_orig_test.features.shape}\")\n",
        "\n",
        "dataset_pred_train, dataset_pred_vt = ad_standard_dataset_pred.split([0.7],\n",
        "                                                shuffle=True, seed=random_seed)\n",
        "dataset_pred_valid, dataset_pred_test = dataset_pred_vt.split([0.5],\n",
        "                                                shuffle=True, seed=random_seed+1)\n",
        "\n",
        "print(f\"Predicted training shape: {dataset_pred_train.features.shape}\")\n",
        "print(f\"Predicted validation shape: {dataset_pred_valid.features.shape}\")\n",
        "print(f\"Predicted testing shape: {dataset_pred_test.features.shape}\")"
      ]
    },
    {
      "cell_type": "code",
      "execution_count": null,
      "id": "66f525fb",
      "metadata": {
        "colab": {
          "base_uri": "https://localhost:8080/",
          "height": 324
        },
        "id": "66f525fb",
        "outputId": "edeee368-96b3-4e77-a64c-95eb4bb43cdd"
      },
      "outputs": [
        {
          "output_type": "display_data",
          "data": {
            "text/plain": [
              "<IPython.core.display.Markdown object>"
            ],
            "text/markdown": "#### Training Dataset shape"
          },
          "metadata": {}
        },
        {
          "output_type": "stream",
          "name": "stdout",
          "text": [
            "(1010197, 19)\n"
          ]
        },
        {
          "output_type": "display_data",
          "data": {
            "text/plain": [
              "<IPython.core.display.Markdown object>"
            ],
            "text/markdown": "#### Favorable and unfavorable labels"
          },
          "metadata": {}
        },
        {
          "output_type": "stream",
          "name": "stdout",
          "text": [
            "1.0 0.0\n"
          ]
        },
        {
          "output_type": "display_data",
          "data": {
            "text/plain": [
              "<IPython.core.display.Markdown object>"
            ],
            "text/markdown": "#### Protected attribute names"
          },
          "metadata": {}
        },
        {
          "output_type": "stream",
          "name": "stdout",
          "text": [
            "['homeowner']\n"
          ]
        },
        {
          "output_type": "display_data",
          "data": {
            "text/plain": [
              "<IPython.core.display.Markdown object>"
            ],
            "text/markdown": "#### Privileged and unprivileged protected attribute values"
          },
          "metadata": {}
        },
        {
          "output_type": "stream",
          "name": "stdout",
          "text": [
            "[array([0.])] [array([1.])]\n"
          ]
        },
        {
          "output_type": "display_data",
          "data": {
            "text/plain": [
              "<IPython.core.display.Markdown object>"
            ],
            "text/markdown": "#### Dataset feature names"
          },
          "metadata": {}
        },
        {
          "output_type": "stream",
          "name": "stdout",
          "text": [
            "['homeowner', 'college_educated=0', 'college_educated=1', 'parents=0', 'parents=1', 'gender=F', 'gender=M', 'gender=Unknown', 'age=18-24', 'age=25-34', 'age=45-54', 'age=55-64', 'age=Unknown', 'income=<100K', 'income=>100K', 'income=Unknown', 'area=Rural', 'area=Unknown', 'area=Urban']\n"
          ]
        }
      ],
      "source": [
        "# print out some labels, names, etc. for the predicted dataset\n",
        "display(Markdown(\"#### Training Dataset shape\"))\n",
        "print(dataset_pred_train.features.shape)\n",
        "display(Markdown(\"#### Favorable and unfavorable labels\"))\n",
        "print(dataset_pred_train.favorable_label, dataset_pred_train.unfavorable_label)\n",
        "display(Markdown(\"#### Protected attribute names\"))\n",
        "print(dataset_pred_train.protected_attribute_names)\n",
        "display(Markdown(\"#### Privileged and unprivileged protected attribute values\"))\n",
        "print(dataset_pred_train.privileged_protected_attributes,\n",
        "      dataset_pred_train.unprivileged_protected_attributes)\n",
        "display(Markdown(\"#### Dataset feature names\"))\n",
        "print(dataset_pred_train.feature_names)"
      ]
    },
    {
      "cell_type": "markdown",
      "id": "3c8afe7a",
      "metadata": {
        "id": "3c8afe7a"
      },
      "source": [
        "## Find optimal parameters using the validation set\n",
        "### Best threshold for classification only (no fairness)"
      ]
    },
    {
      "cell_type": "code",
      "execution_count": null,
      "id": "36f85962",
      "metadata": {
        "colab": {
          "base_uri": "https://localhost:8080/"
        },
        "id": "36f85962",
        "outputId": "59485d8a-e93b-4408-b7f0-81badd98ab89"
      },
      "outputs": [
        {
          "output_type": "stream",
          "name": "stdout",
          "text": [
            "Best balanced accuracy (no fairness constraints) = 0.5561\n",
            "Optimal classification threshold (no fairness constraints) = 0.0100\n"
          ]
        }
      ],
      "source": [
        "# Best threshold for classification only (no fairness)\n",
        "\n",
        "num_thresh = 300\n",
        "ba_arr = np.zeros(num_thresh)\n",
        "class_thresh_arr = np.linspace(0.01, 0.99, num_thresh)\n",
        "for idx, class_thresh in enumerate(class_thresh_arr):\n",
        "\n",
        "    fav_inds = dataset_pred_valid.scores > class_thresh\n",
        "    dataset_pred_valid.labels[fav_inds] = dataset_pred_valid.favorable_label\n",
        "    dataset_pred_valid.labels[~fav_inds] = dataset_pred_valid.unfavorable_label\n",
        "\n",
        "    classified_metric_valid = ClassificationMetric(dataset_orig_valid,\n",
        "                                             dataset_pred_valid,\n",
        "                                             unprivileged_groups=unprivileged_groups,\n",
        "                                             privileged_groups=privileged_groups)\n",
        "\n",
        "    ba_arr[idx] = 0.5*(classified_metric_valid.true_positive_rate()\\\n",
        "                       +classified_metric_valid.true_negative_rate())\n",
        "\n",
        "best_ind = np.where(ba_arr == np.max(ba_arr))[0][0]\n",
        "best_class_thresh = class_thresh_arr[best_ind]\n",
        "\n",
        "print(\"Best balanced accuracy (no fairness constraints) = %.4f\" % np.max(ba_arr))\n",
        "print(\"Optimal classification threshold (no fairness constraints) = %.4f\" % best_class_thresh)"
      ]
    },
    {
      "cell_type": "markdown",
      "id": "d758fd03",
      "metadata": {
        "id": "d758fd03"
      },
      "source": [
        "We estimate the optimal threshold for classification that maximizes balanced accuracy without any fairness constraints using the validation dataset. Now, we will also use the post-processing ROC method with the validation set to mitigate bias. We use the `Statistical parity difference` as the metric, but feel free to choose among the other allowed metrics - `Average odds difference` and `Equal opportunity difference`."
      ]
    },
    {
      "cell_type": "markdown",
      "id": "cbb1ca7c",
      "metadata": {
        "id": "cbb1ca7c"
      },
      "source": [
        "### Estimate optimal parameters for the ROC method to mitigate bias"
      ]
    },
    {
      "cell_type": "code",
      "execution_count": null,
      "id": "f29e14b4",
      "metadata": {
        "id": "f29e14b4"
      },
      "outputs": [],
      "source": [
        "# Metric used (should be one of allowed_metrics)\n",
        "metric_name = \"Statistical parity difference\"\n",
        "\n",
        "# Upper and lower bound on the fairness metric used\n",
        "metric_ub = 0.05\n",
        "metric_lb = -0.05\n",
        "\n",
        "#random seed for calibrated equal odds prediction\n",
        "np.random.seed(1)\n",
        "\n",
        "# Verify metric name\n",
        "allowed_metrics = [\"Statistical parity difference\",\n",
        "                   \"Average odds difference\",\n",
        "                   \"Equal opportunity difference\"]\n",
        "if metric_name not in allowed_metrics:\n",
        "    raise ValueError(\"Metric name should be one of allowed metrics\")"
      ]
    },
    {
      "cell_type": "code",
      "execution_count": null,
      "id": "bd611e5b",
      "metadata": {
        "id": "bd611e5b"
      },
      "outputs": [],
      "source": [
        "# Fit the method\n",
        "ROC = RejectOptionClassification(unprivileged_groups=unprivileged_groups,\n",
        "                                 privileged_groups=privileged_groups,\n",
        "                                            low_class_thresh=0.01, high_class_thresh=0.99,\n",
        "                                            num_class_thresh=100, num_ROC_margin=50,\n",
        "                                            metric_name=metric_name,\n",
        "                                            metric_ub=metric_ub, metric_lb=metric_lb)\n",
        "dataset_transf_pred_valid = ROC.fit_predict(dataset_orig_valid, dataset_pred_valid)"
      ]
    },
    {
      "cell_type": "code",
      "execution_count": null,
      "id": "92ca5f41",
      "metadata": {
        "id": "92ca5f41",
        "outputId": "d7ef0461-6360-4a37-dd22-d7eff1c063e6",
        "colab": {
          "base_uri": "https://localhost:8080/"
        }
      },
      "outputs": [
        {
          "output_type": "stream",
          "name": "stdout",
          "text": [
            "Optimal classification threshold (with fairness constraints) = 0.0100\n",
            "Optimal ROC margin = 0.0055\n"
          ]
        }
      ],
      "source": [
        "print(\"Optimal classification threshold (with fairness constraints) = %.4f\" % ROC.classification_threshold)\n",
        "print(\"Optimal ROC margin = %.4f\" % ROC.ROC_margin)"
      ]
    },
    {
      "cell_type": "markdown",
      "id": "256462ca",
      "metadata": {
        "id": "256462ca"
      },
      "source": [
        "The ROC method has estimated that the optimal classification threshold is 0.01 and the margin is 0.0055. This means that to mitigate bias, for instances with a `predicted_probability` between 0.01-0.0055 and 0.01+0.0055, if they belong to the unprivileged group (`homeowner=1`), they will be assigned a favorable outcome (`predicted_conversion=1`). However, if they belong to the privileged group (`homeowner=0`), they will be assigned an unfavorable outcome (`predicted_conversion=0`)."
      ]
    },
    {
      "cell_type": "code",
      "execution_count": null,
      "id": "f0694b0d",
      "metadata": {
        "colab": {
          "base_uri": "https://localhost:8080/",
          "height": 74
        },
        "id": "f0694b0d",
        "outputId": "775aa42d-39c3-4868-debd-e5d17f8686fb"
      },
      "outputs": [
        {
          "output_type": "display_data",
          "data": {
            "text/plain": [
              "<IPython.core.display.Markdown object>"
            ],
            "text/markdown": "#### Postprocessed predicted validation dataset"
          },
          "metadata": {}
        },
        {
          "output_type": "stream",
          "name": "stdout",
          "text": [
            "Disparate impact of unprivileged vs privileged groups = 1.0690\n"
          ]
        }
      ],
      "source": [
        "metric_pred_valid_transf = BinaryLabelDatasetMetric(dataset_transf_pred_valid,\n",
        "                                             unprivileged_groups=unprivileged_groups,\n",
        "                                             privileged_groups=privileged_groups)\n",
        "display(Markdown(\"#### Postprocessed predicted validation dataset\"))\n",
        "print(f\"Disparate impact of unprivileged vs privileged groups = {metric_pred_valid_transf.disparate_impact():.4f}\")"
      ]
    },
    {
      "cell_type": "markdown",
      "id": "5b8f7e63",
      "metadata": {
        "id": "5b8f7e63"
      },
      "source": [
        "## Predictions from Test Set"
      ]
    },
    {
      "cell_type": "markdown",
      "id": "db037720",
      "metadata": {
        "id": "db037720"
      },
      "source": [
        "Let's define a convenience function to compute a number of metrics."
      ]
    },
    {
      "cell_type": "code",
      "execution_count": null,
      "id": "0d9c2a03",
      "metadata": {
        "id": "0d9c2a03"
      },
      "outputs": [],
      "source": [
        "# Metrics function\n",
        "from collections import OrderedDict\n",
        "from aif360.metrics import ClassificationMetric\n",
        "\n",
        "def compute_metrics(dataset_true, dataset_pred,\n",
        "                    unprivileged_groups, privileged_groups,\n",
        "                    disp = True):\n",
        "    \"\"\" Compute the key metrics \"\"\"\n",
        "    classified_metric_pred = ClassificationMetric(dataset_true,\n",
        "                                                 dataset_pred,\n",
        "                                                 unprivileged_groups=unprivileged_groups,\n",
        "                                                 privileged_groups=privileged_groups)\n",
        "    metrics = OrderedDict()\n",
        "    metrics[\"Balanced accuracy\"] = 0.5*(classified_metric_pred.true_positive_rate()+\n",
        "                                             classified_metric_pred.true_negative_rate())\n",
        "    metrics[\"Statistical parity difference\"] = classified_metric_pred.statistical_parity_difference()\n",
        "    metrics[\"Disparate impact\"] = classified_metric_pred.disparate_impact()\n",
        "    metrics[\"Average odds difference\"] = classified_metric_pred.average_odds_difference()\n",
        "    metrics[\"Equal opportunity difference\"] = classified_metric_pred.equal_opportunity_difference()\n",
        "    metrics[\"Theil index\"] = classified_metric_pred.theil_index()\n",
        "\n",
        "    if disp:\n",
        "        for k in metrics:\n",
        "            print(\"%s = %.4f\" % (k, metrics[k]))\n",
        "\n",
        "    return metrics"
      ]
    },
    {
      "cell_type": "markdown",
      "id": "257049d0",
      "metadata": {
        "id": "257049d0"
      },
      "source": [
        "Now the metrics can be computed for the raw test dataset, and the post-processed one, to verify the effect of bias mitigation."
      ]
    },
    {
      "cell_type": "code",
      "execution_count": null,
      "id": "d6d1c293",
      "metadata": {
        "colab": {
          "base_uri": "https://localhost:8080/",
          "height": 195
        },
        "id": "d6d1c293",
        "outputId": "d0cb5cc3-cb62-41f7-d3f7-991f8a790916"
      },
      "outputs": [
        {
          "output_type": "display_data",
          "data": {
            "text/plain": [
              "<IPython.core.display.Markdown object>"
            ],
            "text/markdown": "#### Test set"
          },
          "metadata": {}
        },
        {
          "output_type": "display_data",
          "data": {
            "text/plain": [
              "<IPython.core.display.Markdown object>"
            ],
            "text/markdown": "##### Raw predictions - No fairness constraints, only maximizing balanced accuracy"
          },
          "metadata": {}
        },
        {
          "output_type": "stream",
          "name": "stdout",
          "text": [
            "Balanced accuracy = 0.5723\n",
            "Statistical parity difference = -0.1335\n",
            "Disparate impact = 0.4897\n",
            "Average odds difference = -0.1230\n",
            "Equal opportunity difference = -0.1124\n",
            "Theil index = 0.0411\n"
          ]
        }
      ],
      "source": [
        "# Metrics for the test set\n",
        "fav_inds = dataset_pred_test.scores > best_class_thresh\n",
        "dataset_pred_test.labels[fav_inds] = dataset_pred_test.favorable_label\n",
        "dataset_pred_test.labels[~fav_inds] = dataset_pred_test.unfavorable_label\n",
        "\n",
        "display(Markdown(\"#### Test set\"))\n",
        "display(Markdown(\"##### Raw predictions - No fairness constraints, only maximizing balanced accuracy\"))\n",
        "\n",
        "metric_test_bef = compute_metrics(dataset_orig_test, dataset_pred_test,\n",
        "                unprivileged_groups, privileged_groups)"
      ]
    },
    {
      "cell_type": "markdown",
      "id": "0a7205ae",
      "metadata": {
        "id": "0a7205ae"
      },
      "source": [
        "Once the bias is identified from the test dataset, we will run the `predict` function of `Reject Option Classifier(ROC)` algorithm to transform the dataset and compute the fairness constraints after bias mitigation."
      ]
    },
    {
      "cell_type": "code",
      "execution_count": null,
      "id": "228ab957",
      "metadata": {
        "colab": {
          "base_uri": "https://localhost:8080/",
          "height": 195
        },
        "id": "228ab957",
        "outputId": "56b7c33f-555e-4fc8-ee02-c15f1b2e9e4d"
      },
      "outputs": [
        {
          "output_type": "display_data",
          "data": {
            "text/plain": [
              "<IPython.core.display.Markdown object>"
            ],
            "text/markdown": "#### Test set"
          },
          "metadata": {}
        },
        {
          "output_type": "display_data",
          "data": {
            "text/plain": [
              "<IPython.core.display.Markdown object>"
            ],
            "text/markdown": "##### Transformed predictions - With fairness constraints"
          },
          "metadata": {}
        },
        {
          "output_type": "stream",
          "name": "stdout",
          "text": [
            "Balanced accuracy = 0.5688\n",
            "Statistical parity difference = 0.0212\n",
            "Disparate impact = 1.1031\n",
            "Average odds difference = 0.0732\n",
            "Equal opportunity difference = 0.1254\n",
            "Theil index = 0.0525\n"
          ]
        }
      ],
      "source": [
        "# Metrics for the transformed test set\n",
        "dataset_transf_pred_test = ROC.predict(dataset_pred_test)\n",
        "\n",
        "display(Markdown(\"#### Test set\"))\n",
        "display(Markdown(\"##### Transformed predictions - With fairness constraints\"))\n",
        "metric_test_aft = compute_metrics(dataset_orig_test, dataset_transf_pred_test,\n",
        "                unprivileged_groups, privileged_groups)"
      ]
    },
    {
      "cell_type": "markdown",
      "id": "1d0e13a3",
      "metadata": {
        "id": "1d0e13a3"
      },
      "source": [
        "We see that for virtually no loss in balanced accuracy, the group fairness metrics have improved significantly. Particularly, `Statistical parity difference` has come closer to 0 and `Disparate impact` has come closer to 1, indicating significant improvement in fairness.\n",
        "\n",
        "In addition to this post-processing approach, AIF360 also offers several pre-, in-, and post-processing bias mitigation algorithms."
      ]
    },
    {
      "cell_type": "markdown",
      "id": "fe525bca",
      "metadata": {
        "id": "fe525bca"
      },
      "source": [
        "## Summary and Findings"
      ]
    },
    {
      "cell_type": "markdown",
      "id": "437b4c3e",
      "metadata": {
        "id": "437b4c3e",
        "pycharm": {
          "name": "#%% md\n"
        }
      },
      "source": [
        "For this study, we used MDSS on the dataset to identify the groups that exhibited significant predictive bias. We discovered that non-homeowners were targeted more for advertisements compared to homeowners and hence that sub group is considered as privileged. After discovering this subgroup we used the disparate impact metric to quantify bias. We further used `Reject Option Classifier(ROC)` post-processing algorithm to mitigate bias. For that we divided dataset into three groups - training, validation and test. We fit ROC on validation dataset and used test dataset for testing the performance of mitigation. We observed that for similar balanced accuracy, bias is significantly mitigated.\n",
        "\n",
        "Other pre- and in-processing approaches from AIF360 can also be considered for bias mitigation based on the particular scenario."
      ]
    }
  ],
  "metadata": {
    "colab": {
      "provenance": []
    },
    "kernelspec": {
      "display_name": "Python 3 (ipykernel)",
      "language": "python",
      "name": "python3"
    },
    "language_info": {
      "codemirror_mode": {
        "name": "ipython",
        "version": 3
      },
      "file_extension": ".py",
      "mimetype": "text/x-python",
      "name": "python",
      "nbconvert_exporter": "python",
      "pygments_lexer": "ipython3",
      "version": "3.10.12"
    }
  },
  "nbformat": 4,
  "nbformat_minor": 5
}